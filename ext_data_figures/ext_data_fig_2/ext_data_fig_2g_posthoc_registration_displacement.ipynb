{
 "cells": [
  {
   "cell_type": "code",
   "execution_count": null,
   "id": "a63853f4-33ef-406e-a8f6-a500fc691d5e",
   "metadata": {
    "tags": []
   },
   "outputs": [],
   "source": [
    "%load_ext autoreload\n",
    "%autoreload 2\n",
    "import numpy as np\n",
    "import pandas as pd\n",
    "from pathlib import Path\n",
    "from linear2ac.io import get_main_data_folder\n",
    "from skimage.exposure import rescale_intensity\n",
    "import vr2p\n",
    "import gcsfs, pickle\n",
    "from matplotlib import pyplot as plt\n",
    "from matplotlib import cm,colors,colormaps"
   ]
  },
  {
   "cell_type": "markdown",
   "id": "a6020aad-4c63-424f-ae5f-26a643cfd888",
   "metadata": {},
   "source": [
    "# main parameters"
   ]
  },
  {
   "cell_type": "code",
   "execution_count": null,
   "id": "3d4f17d7-2be6-4cad-8a55-c0709aa32261",
   "metadata": {
    "tags": []
   },
   "outputs": [],
   "source": [
    "animal = 'A7'\n",
    "pix_size = [1.333,2] #xy"
   ]
  },
  {
   "cell_type": "markdown",
   "id": "c7e304ba-1663-453f-8647-0413ad666684",
   "metadata": {},
   "source": [
    "# load data."
   ]
  },
  {
   "cell_type": "code",
   "execution_count": null,
   "id": "da8200e2-cd7b-4b8a-95ec-5086d0743cd7",
   "metadata": {
    "tags": []
   },
   "outputs": [],
   "source": [
    "# load data.\n",
    "data = vr2p.ExperimentData(f'/.../Set A/Tyche-{animal}-SetA.zarr')\n",
    "\n",
    "# registration data.\n",
    "fs = gcsfs.GCSFileSystem(project='sprustonlab-meso')\n",
    "with fs.open('/.../registration_data/register.pkl', 'rb') as handle:\n",
    "    deforms, trans_images,trans_masks, trans_label_im = pickle.load(handle)"
   ]
  },
  {
   "cell_type": "markdown",
   "id": "d0cdb56e-371c-4ab5-9fdf-0148fdc0c4a8",
   "metadata": {},
   "source": [
    "# 1 Global displacement plots\n",
    "## 1.0 General parameters"
   ]
  },
  {
   "cell_type": "code",
   "execution_count": null,
   "id": "10c8624b-011d-48d5-ac4a-ce7d75632dac",
   "metadata": {
    "tags": []
   },
   "outputs": [],
   "source": [
    "session = 8\n",
    "img_type = 'mean_img' \n",
    "display_range = [250,1900]\n",
    "fov_size_mm = 1.55\n",
    "fov_origin_mm = [0.1,0.05] # left bottom origin.\n",
    "\n",
    "# Calculate vectors and magnitude\n",
    "x = deforms[session].get_field(0) * pix_size[0]\n",
    "y = deforms[session].get_field(1) * pix_size[1]\n",
    "magnitude = np.sqrt(np.power(x,2)+np.power(y,2))\n",
    "# Get base image.\n",
    "base_im = rescale_intensity(data.images.original[session][img_type],\n",
    "                            in_range = tuple(display_range), out_range=(0,1)).astype(float)\n",
    "extent=[0,(base_im.shape[1]*pix_size[0])/1000, 0,(base_im.shape[0]*pix_size[1])/1000]\n",
    "# fov crop in x -y\n",
    "fov_mm = [[fov_origin_mm[0],fov_origin_mm[0] + fov_size_mm],\n",
    "          [fov_origin_mm[1],fov_origin_mm[1] + fov_size_mm]] \n",
    "\n",
    "##\n",
    "# Helper functions\n",
    "##\n",
    "\n",
    "def array2rgb( array, disp_range,cmap):\n",
    "    array = rescale_intensity(array,in_range = tuple(disp_range),out_range=(0,1)).astype(float)\n",
    "    return cmap(array)\n",
    "\n",
    "def add_weighted(im,weight):\n",
    "    for i in range(3):\n",
    "        im[:,:,i] *= weight\n",
    "    return im\n",
    "\n",
    "def plot_heatmap(im, d_range, colormap):\n",
    "    heatmap_im = array2rgb( im, d_range,colormap)\n",
    "    heatmap_im = add_weighted(heatmap_im,base_im)\n",
    "    #plot\n",
    "    fig = plt.figure(figsize=(2.5,2.5),dpi=300)\n",
    "    ax = fig.add_subplot(1, 1, 1)\n",
    "    # plot img.\n",
    "    ax.imshow( heatmap_im, origin='lower',extent=extent, \n",
    "              interpolation='none', vmin=0, vmax=1) # correct non uniform aspect ratio.\n",
    "    ax.axis('off')\n",
    "    ax.set_xlim(fov_mm[0])\n",
    "    ax.set_ylim(fov_mm[1])\n",
    "    # set title\n",
    "    title_str = f'fov size: {fov_size_mm} mm\\n'\n",
    "    title_str += f'{img_type} range: {display_range[0]}-{display_range[1]}\\n'\n",
    "    title_str += f'heatmap range: {d_range[0]}-{d_range[1]}'\n",
    "    fig.suptitle(title_str,fontsize = 3)"
   ]
  },
  {
   "cell_type": "markdown",
   "id": "3a47cfef-2a05-4477-8b04-67431ca1ad88",
   "metadata": {},
   "source": [
    "# 1.1 FOV Overview"
   ]
  },
  {
   "cell_type": "code",
   "execution_count": null,
   "id": "efac66ef-6195-4857-9866-69d692232936",
   "metadata": {
    "tags": []
   },
   "outputs": [],
   "source": [
    "overview_disp_range = [250,2350]\n",
    "overview_img_type = 'mean_img' \n",
    "fov_im = rescale_intensity(data.images.original[session][overview_img_type],\n",
    "                            in_range = tuple(overview_disp_range), out_range=(0,1)).astype(float)\n",
    "#plot\n",
    "fig = plt.figure(figsize=(2.5,2.5),dpi=300)\n",
    "ax = fig.add_subplot(1, 1, 1)\n",
    "\n",
    "# plot img.\n",
    "ax.imshow( fov_im, origin='lower',extent=extent, \n",
    "          interpolation='none',cmap='gray', vmin=0, vmax=1) # correct non uniform aspect ratio.\n",
    "# format.\n",
    "ax.axis('off')\n",
    "ax.set_xlim(fov_mm[0])\n",
    "ax.set_ylim(fov_mm[1])\n",
    "\n",
    "# set title\n",
    "title_str = f'fov size: {fov_size_mm} mm\\n'\n",
    "title_str += f'{overview_img_type} range: {overview_disp_range[0]}-{overview_disp_range[1]}\\n'\n",
    "fig.suptitle(title_str,fontsize = 3)"
   ]
  },
  {
   "cell_type": "markdown",
   "id": "544649b5-14b3-4a18-acec-b490c0475341",
   "metadata": {
    "tags": []
   },
   "source": [
    "## 1.2 Magnitude"
   ]
  },
  {
   "cell_type": "code",
   "execution_count": null,
   "id": "0632d91c-dd96-4707-8399-1b5d98d0f86e",
   "metadata": {
    "tags": []
   },
   "outputs": [],
   "source": [
    "# Parameters\n",
    "magnitude_range = [0,20]\n",
    "magnitude_colormap_name = 'viridis'\n",
    "\n",
    "#plot\n",
    "plot_heatmap(magnitude, magnitude_range, colormaps[magnitude_colormap_name])"
   ]
  },
  {
   "cell_type": "markdown",
   "id": "b6056300-b530-4989-9303-f75e2be7cc8f",
   "metadata": {},
   "source": [
    "## 1.3 X Displacement"
   ]
  },
  {
   "cell_type": "code",
   "execution_count": null,
   "id": "a7e3035b-7319-4d32-889f-7d790e91f4ad",
   "metadata": {
    "tags": []
   },
   "outputs": [],
   "source": [
    "# Parameters\n",
    "x_range = [-5,5]\n",
    "x_colormap_name = 'PiYG'\n",
    "\n",
    "#plot\n",
    "plot_heatmap(x, x_range, colormaps[x_colormap_name])"
   ]
  },
  {
   "cell_type": "markdown",
   "id": "858cada0-8a38-4c8c-b515-ef7f7cc406c4",
   "metadata": {},
   "source": [
    "## 1.4 Y Displacement"
   ]
  },
  {
   "cell_type": "code",
   "execution_count": null,
   "id": "06480027-93aa-497d-b61d-0cbafe6c106d",
   "metadata": {
    "tags": []
   },
   "outputs": [],
   "source": [
    "# Parameters\n",
    "y_range = [-20,20]\n",
    "y_colormap_name = 'PiYG'\n",
    "\n",
    "#plot\n",
    "plot_heatmap(y, y_range, colormaps[y_colormap_name])"
   ]
  },
  {
   "cell_type": "markdown",
   "id": "dac2573a-b41d-412f-a2f1-546c081ebdf5",
   "metadata": {
    "tags": []
   },
   "source": [
    "# 2 Comparative displacement"
   ]
  },
  {
   "cell_type": "code",
   "execution_count": null,
   "id": "243f5511-af79-4f14-bb57-4bde1f228a3b",
   "metadata": {
    "tags": []
   },
   "outputs": [],
   "source": [
    "def show_comparison_overlay(ax, im1, im2, crop_range, display_range, scale_size, scale_label):\n",
    "    # color.\n",
    "    im1 = array2rgb(im1, display_range,gencm((1,0,1)))\n",
    "    im2 = array2rgb(im2, display_range,gencm((0,1,0)))\n",
    "    ax.imshow(im1+im2, extent=[0,mm_im_size[0], 0,mm_im_size[1]],vmin = display_range[0],vmax = display_range[1])\n",
    "    ax.set_axis_off()\n",
    "    # crop.\n",
    "    if crop_range:\n",
    "        ax.set_xlim(crop_range[0], crop_range[1])\n",
    "        ax.set_ylim(crop_range[2], crop_range[3]) "
   ]
  },
  {
   "cell_type": "code",
   "execution_count": null,
   "id": "fb7d0374-d54a-4511-8d8d-2b8e2024371c",
   "metadata": {},
   "outputs": [],
   "source": []
  }
 ],
 "metadata": {
  "kernelspec": {
   "display_name": "Python 3 (ipykernel)",
   "language": "python",
   "name": "python3"
  },
  "language_info": {
   "codemirror_mode": {
    "name": "ipython",
    "version": 3
   },
   "file_extension": ".py",
   "mimetype": "text/x-python",
   "name": "python",
   "nbconvert_exporter": "python",
   "pygments_lexer": "ipython3",
   "version": "3.8.12"
  }
 },
 "nbformat": 4,
 "nbformat_minor": 5
}
