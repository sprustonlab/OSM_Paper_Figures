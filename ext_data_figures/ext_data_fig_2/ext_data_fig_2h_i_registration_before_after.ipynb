{
 "cells": [
  {
   "cell_type": "code",
   "execution_count": null,
   "id": "e6bf017f-a156-4f4f-b246-f3a4b3779eaa",
   "metadata": {
    "tags": []
   },
   "outputs": [],
   "source": [
    "%load_ext autoreload\n",
    "%autoreload 2\n",
    "import numpy as np\n",
    "import vr2p\n",
    "from skimage.exposure import rescale_intensity\n",
    "from matplotlib import pyplot as plt\n",
    "from matplotlib import cm,colors\n",
    "from matplotlib.patches import Rectangle\n"
   ]
  },
  {
   "cell_type": "markdown",
   "id": "10cb297a-3ee3-45f7-85d4-0ea5ab6eb046",
   "metadata": {},
   "source": [
    "# main parameters"
   ]
  },
  {
   "cell_type": "code",
   "execution_count": null,
   "id": "be75161e-0521-402d-810c-0332b1b140a6",
   "metadata": {
    "tags": []
   },
   "outputs": [],
   "source": [
    "animal = 'A7'\n",
    "pix_size = [1.333,2] #xy\n",
    "\n",
    "fov_size_mm = 1.55\n",
    "fov_origin_mm = [0.1,0.05]\n",
    "img_type = 'mean_img'\n",
    "crop_size_mm = 0.125\n",
    "\n",
    "# load data.\n",
    "data = vr2p.ExperimentData(f'/.../Set A-E/Tyche-{animal}')"
   ]
  },
  {
   "cell_type": "markdown",
   "id": "f8c4a172-ff04-4a1f-947e-7b7ecf4b6991",
   "metadata": {},
   "source": [
    "# show main fov with croped region"
   ]
  },
  {
   "cell_type": "code",
   "execution_count": null,
   "id": "e5c7e0ce-cffc-423d-a777-2f44f33e26c0",
   "metadata": {
    "tags": []
   },
   "outputs": [],
   "source": [
    "\n",
    "def show_overview_crop(session,disp_range, img_type, fov_size_mm, fov_origin_mm, crop_size_mm,crop_origin_mm,show_crop=True):\n",
    "    fov_im = rescale_intensity(data.images.original[session][img_type],\n",
    "                                in_range = tuple(disp_range), out_range=(0,1)).astype(float)\n",
    "    extent=[0,(fov_im.shape[1]*pix_size[0])/1000, 0,(fov_im.shape[0]*pix_size[1])/1000]\n",
    "    # fov crop in x -y\n",
    "    fov_mm = [[fov_origin_mm[0],fov_origin_mm[0] + fov_size_mm],\n",
    "              [fov_origin_mm[1],fov_origin_mm[1] + fov_size_mm]] \n",
    "    if show_crop:\n",
    "        crop_mm = [[crop_origin_mm[0],crop_origin_mm[0] + crop_size_mm],\n",
    "                  [crop_origin_mm[1],crop_origin_mm[1] + crop_size_mm]] \n",
    "    #plot\n",
    "    fig = plt.figure(figsize=(2.5,2.5),dpi=300)\n",
    "    ax = fig.add_subplot(1, 1, 1)\n",
    "\n",
    "    # plot img.\n",
    "    ax.imshow( fov_im, origin='lower',extent=extent, \n",
    "              interpolation='none',cmap='gray', vmin=0, vmax=1) # correct non uniform aspect ratio.\n",
    "    # format.\n",
    "    ax.axis('off')\n",
    "    ax.set_xlim(fov_mm[0])\n",
    "    ax.set_ylim(fov_mm[1])\n",
    "\n",
    "    # set title\n",
    "    title_str = f'fov size: {fov_size_mm} mm\\n'\n",
    "    title_str += f'{img_type} range: {disp_range[0]}-{disp_range[1]}\\n'\n",
    "    fig.suptitle(title_str,fontsize = 3)\n",
    "    if show_crop:\n",
    "        ax.add_patch(Rectangle((crop_mm[0][0],crop_mm[1][0]),\n",
    "                                   crop_mm[0][1]-crop_mm[0][0], \n",
    "                                   crop_mm[1][1]-crop_mm[1][0],\n",
    "                                  facecolor='none', edgecolor='white',linewidth=0.5,))\n",
    "# original or geistered\n",
    "def show_crop_img(session, session_type,  disp_range, img_type, crop_size_mm, crop_origin_mm):\n",
    "    \"\"\"\n",
    "        session_type = 'original' or 'registered'\n",
    "    \"\"\"\n",
    "    #plot\n",
    "    fig = plt.figure(figsize=(2.5,2.5),dpi=300)\n",
    "    ax = fig.add_subplot(1, 1, 1)\n",
    "    # show image.\n",
    "    img_data = getattr(data.images,session_type)[session][img_type]\n",
    "    im = rescale_intensity(img_data, in_range = tuple(disp_range), out_range=(0,1)).astype(float)\n",
    "    extent=[0,(im.shape[1]*pix_size[0])/1000, 0,(im.shape[0]*pix_size[1])/1000]\n",
    "    ax.imshow( im, origin='lower',extent=extent, \n",
    "              interpolation='none',cmap='gray', vmin=0, vmax=1) # correct non uniform aspect ratio.\n",
    "    # crop area\n",
    "    crop_ax(ax, crop_size_mm, crop_origin_mm)\n",
    "    # set title\n",
    "    title_str = f'session: {session}\\n'\n",
    "    title_str += f'fov size: {crop_size_mm} mm\\n'\n",
    "    title_str += f'{img_type} range: {disp_range[0]}-{disp_range[1]}\\n'\n",
    "    fig.suptitle(title_str,fontsize = 3)\n",
    "    \n",
    "def show_session_overlay(session_type, session_1,session_2, disp_range_1,disp_range_2, crop_size_mm, crop_origin_mm):\n",
    "    # create plot.\n",
    "    fig = plt.figure(figsize=(2.5,2.5),dpi=300)\n",
    "    ax = fig.add_subplot(1, 1, 1)\n",
    "    # grab data.\n",
    "    img_data = getattr(data.images,session_type)\n",
    "    im2 = array2rgb( img_data[session_1][img_type], disp_range_1,gencm((0,1,0)))   \n",
    "    im1 = array2rgb( img_data[session_2][img_type], disp_range_2,gencm((1,0,1)))\n",
    "\n",
    "    extent=[0,(im1.shape[1]*pix_size[0])/1000, 0,(im1.shape[0]*pix_size[1])/1000]\n",
    "    ax.imshow( im1+im2, origin='lower',extent=extent, \n",
    "              interpolation='none',cmap='gray', vmin=0, vmax=1) # correct non uniform aspect ratio.\n",
    "    ax.set_axis_off()\n",
    "    # crop.\n",
    "    crop_ax(ax, crop_size_mm, crop_origin_mm)\n",
    "    # set title\n",
    "    title_str = f'sessions: {session_1} (magenta),{session_2} (green) ({session_type}) \\n'\n",
    "    title_str += f'fov size: {crop_size_mm} mm\\n'\n",
    "    title_str += f'{img_type} range green: {disp_range_1[0]}-{disp_range_1[1]}\\n'\n",
    "    title_str += f'{img_type} range magenta: {disp_range_2[0]}-{disp_range_2[1]}\\n'\n",
    "    fig.suptitle(title_str,fontsize = 3)\n",
    "    \n",
    "def show_all_panels( session_1, session_2, disp_range_1, disp_range_2, crop_origin_mm):\n",
    "\n",
    "    # overview.\n",
    "    show_overview_crop(session = session_1, disp_range=disp_range_1, img_type = 'mean_img' ,\n",
    "                           fov_size_mm = fov_size_mm,  fov_origin_mm = fov_origin_mm,\n",
    "                           crop_size_mm = crop_size_mm, crop_origin_mm = crop_origin_mm)\n",
    "    # crops before.\n",
    "    show_crop_img(session=session_1, session_type = 'original',\n",
    "                  disp_range=disp_range_1, img_type = img_type,\n",
    "                  crop_size_mm = crop_size_mm, crop_origin_mm = crop_origin_mm)\n",
    "    show_crop_img(session=session_2, session_type = 'registered',\n",
    "                  disp_range=disp_range_2, img_type = img_type,\n",
    "                  crop_size_mm = crop_size_mm, crop_origin_mm = crop_origin_mm)\n",
    "    # overlay before after.\n",
    "    show_session_overlay(session_type =  'original', session_1 = session_1,session_2 = session_2, \n",
    "                         disp_range_1 = disp_range_1, disp_range_2 = disp_range_2,\n",
    "                        crop_size_mm = crop_size_mm, crop_origin_mm = crop_origin_mm)\n",
    "    show_session_overlay(session_type =  'registered', session_1 = session_1, session_2 = session_2, \n",
    "                         disp_range_1 = disp_range_1, disp_range_2 = disp_range_2,\n",
    "                        crop_size_mm = crop_size_mm, crop_origin_mm = crop_origin_mm)    \n",
    "    \n",
    "def array2rgb( array, disp_range,cmap):\n",
    "    array = rescale_intensity(array,in_range = tuple(disp_range),out_range=(0,255)).astype(np.uint8)\n",
    "    return np.uint8(cmap(array)*255)\n",
    "def gencm(end_color):\n",
    "    sel_colors = [(0, 0, 0), end_color] \n",
    "    return colors.LinearSegmentedColormap.from_list(\"Custom\", sel_colors, N=256)\n",
    "def crop_ax(ax, crop_size_mm, crop_origin_mm):\n",
    "    crop_mm = [[crop_origin_mm[0],crop_origin_mm[0] + crop_size_mm],\n",
    "              [crop_origin_mm[1],crop_origin_mm[1] + crop_size_mm]] \n",
    "    ax.axis('off')\n",
    "    ax.set_xlim(crop_mm[0])\n",
    "    ax.set_ylim(crop_mm[1])\n",
    "    "
   ]
  },
  {
   "cell_type": "markdown",
   "id": "442e99f9-3dbb-46c5-b234-378adecdd586",
   "metadata": {},
   "source": [
    "# show general overview with out crop region"
   ]
  },
  {
   "cell_type": "code",
   "execution_count": null,
   "id": "75ed7ca5-5690-46ee-870e-08536d2b5a77",
   "metadata": {
    "tags": []
   },
   "outputs": [],
   "source": [
    "# overview.\n",
    "show_overview_crop(session = 2, disp_range=[250,2350], img_type = 'mean_img' ,\n",
    "                       fov_size_mm = 1.55,  fov_origin_mm = [0.1,0.05],\n",
    "                       crop_size_mm = None, crop_origin_mm = None, show_crop = False)"
   ]
  },
  {
   "cell_type": "markdown",
   "id": "e07ba4db-8e0c-429f-b5ae-00e3c05aa898",
   "metadata": {},
   "source": [
    "# Crop region 1"
   ]
  },
  {
   "cell_type": "code",
   "execution_count": null,
   "id": "b793c5ea-d1b9-450f-84c2-359a3a6982ad",
   "metadata": {
    "tags": []
   },
   "outputs": [],
   "source": [
    "show_all_panels( session_1=0, session_2=1, \n",
    "                disp_range_1=[500,1450], disp_range_2= [500,1800], crop_origin_mm=[0.7, 1.25])"
   ]
  },
  {
   "cell_type": "markdown",
   "id": "09250f73-888a-4b46-958b-f1b732d3080e",
   "metadata": {},
   "source": [
    "# Crop region 2."
   ]
  },
  {
   "cell_type": "code",
   "execution_count": null,
   "id": "37d520ab-9096-451e-9f29-4b21cd433d4b",
   "metadata": {
    "tags": []
   },
   "outputs": [],
   "source": [
    "show_all_panels( session_1=0, session_2=4, \n",
    "                disp_range_1=[500,1750], disp_range_2= [500,2300], crop_origin_mm=[0.8, 0.75])"
   ]
  },
  {
   "cell_type": "markdown",
   "id": "f8e94a1f-6e6e-457a-9d6c-73aa6e655a48",
   "metadata": {},
   "source": [
    "# Crop Region 3"
   ]
  },
  {
   "cell_type": "code",
   "execution_count": null,
   "id": "25f6e0db-0483-445d-9f7e-5f8f312b8ea3",
   "metadata": {
    "tags": []
   },
   "outputs": [],
   "source": [
    "show_all_panels( session_1=0, session_2=9, \n",
    "                disp_range_1=[250,1250], disp_range_2= [250,1550], crop_origin_mm=[1.3, 0.9])"
   ]
  }
 ],
 "metadata": {
  "kernelspec": {
   "display_name": "Python 3 (ipykernel)",
   "language": "python",
   "name": "python3"
  },
  "language_info": {
   "codemirror_mode": {
    "name": "ipython",
    "version": 3
   },
   "file_extension": ".py",
   "mimetype": "text/x-python",
   "name": "python",
   "nbconvert_exporter": "python",
   "pygments_lexer": "ipython3",
   "version": "3.8.12"
  }
 },
 "nbformat": 4,
 "nbformat_minor": 5
}
