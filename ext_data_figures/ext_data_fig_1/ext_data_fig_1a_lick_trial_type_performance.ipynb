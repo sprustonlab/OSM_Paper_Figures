{
 "cells": [
  {
   "cell_type": "code",
   "execution_count": null,
   "id": "0defdccd-0585-49a1-a1ee-e5aa304b5bb2",
   "metadata": {
    "tags": []
   },
   "outputs": [],
   "source": [
    "%load_ext autoreload\n",
    "%autoreload 2\n",
    "import numpy as np\n",
    "from linear2ac.io import get_main_data_folder\n",
    "import matplotlib.pyplot as plt\n",
    "from tqdm import tqdm\n",
    "from vr2p import styles\n",
    "import vr2p\n",
    "import pandas as pd\n",
    "from scipy.stats import rankdata"
   ]
  },
  {
   "cell_type": "markdown",
   "id": "a8105f45-768b-49d0-988c-6534c53906d8",
   "metadata": {},
   "source": [
    "# Collect data."
   ]
  },
  {
   "cell_type": "code",
   "execution_count": null,
   "id": "8f316cfd-72b4-4532-af00-7e46c27ee88f",
   "metadata": {
    "tags": []
   },
   "outputs": [],
   "source": [
    "# Parameters\n",
    "animals = ['A4','A5','A7','B2','B3','B4','B5','C1','D1','F1', 'F5']\n",
    "remove_licks_on_place = True # these can both be true.\n",
    "remove_licks_on_time = False\n",
    "remove_licks_after_reward_sec = 4 # in seconds.\n",
    "remove_licks_after_reward_cm = 10 # in cm\n",
    "\n",
    "# go through animals.\n",
    "results = pd.DataFrame()\n",
    "for i_animal,animal in tqdm(enumerate(animals),desc='animals',total=len(animals)):\n",
    "    # get animal data\n",
    "    data = vr2p.ExperimentData(f'/.../Set A/Tyche-{animal}-SetA.zarr')\n",
    "    cum_trial_number = 0\n",
    "    for i_session, vr in enumerate(data.vr):\n",
    "        # get licking information\n",
    "        lick = vr.lick.copy()\n",
    "        trial = vr.trial.copy()\n",
    "        # select needed info\n",
    "        lick=lick[['time','position','trial_number']]\n",
    "        # remove licks outside of trials.\n",
    "        lick =lick[lick['trial_number'].isnull()==False]\n",
    "        lick['trial_number'] = lick['trial_number'].astype('int')    \n",
    "        # remove licks.\n",
    "        # remove based on proximity to reward\n",
    "        reward = vr.reward.copy()\n",
    "        if remove_licks_on_place:\n",
    "            # Go through reward.\n",
    "            filter_ind = [] # stores lick indices to remove\n",
    "            for index, row in reward.iterrows():\n",
    "                is_trial = (lick.trial_number==row.trial_number)\n",
    "                is_in_pos = (lick.position.between(row.position,row.position+remove_licks_after_reward_cm))\n",
    "                is_in_time = (lick.time.between(row.time,row.time+pd.to_timedelta(remove_licks_after_reward_sec,unit='s')))\n",
    "                if remove_licks_on_time:\n",
    "                    filter_ind.append(lick.loc[is_trial & is_in_pos & is_in_time].index.to_numpy())\n",
    "                else:\n",
    "                    filter_ind.append(lick.loc[is_trial & is_in_pos].index.to_numpy())    \n",
    "            lick = lick.drop(np.hstack(filter_ind))\n",
    "        # remove based on time\n",
    "        else:\n",
    "            for index, row in reward.iterrows():\n",
    "                lick = lick.loc[lick.time.between(row.time,row.time + pd.to_timedelta(remove_licks_after_reward_sec, unit=\"s\"))==False]\n",
    "        lick=lick[['position','trial_number']]   \n",
    "        #  select data.\n",
    "        trial = trial[['trial_number','reward_id','is_guided']]\n",
    "        # adjust trial type (near / far)\n",
    "        trial['reward_id'] = trial['reward_id'].replace({1:'near',2:'far'})\n",
    "        trial = trial.rename(columns={'reward_id': 'trial_type'})        \n",
    "        # merge trial information\n",
    "        lick = pd.merge(lick, trial, on='trial_number', how='inner')\n",
    "        # filter on position < 230\n",
    "        lick = lick[lick['position'] <230]       \n",
    "        # add animal and session info for store\n",
    "        lick['animal'] = animal\n",
    "        lick['session'] = i_session\n",
    "        lick = lick.set_index(['animal','trial_type'])\n",
    "        lick = lick.sort_index()\n",
    "        # make trial number cumulative per session type.\n",
    "        for trial_type in ['near','far']:\n",
    "            # make trial numbers sequential for this trial.\n",
    "            trial_ranks = rankdata(lick.loc[animal,trial_type].trial_number.to_numpy(),method='dense')\n",
    "            # check what the max trial number is for this animal (if present)\n",
    "            has_info = any(results.index.isin([(animal,trial_type)]))\n",
    "            cum_trial = results.loc[animal,trial_type]['trial_number'].max() if has_info else 0\n",
    "            # make cumulative.\n",
    "            lick.loc[(animal,trial_type),'trial_number'] = trial_ranks + cum_trial\n",
    "        results = pd.concat((results,lick)).sort_index()\n",
    "display(results)"
   ]
  },
  {
   "cell_type": "markdown",
   "id": "706a0dac-7ee4-421b-94af-6bdf1c618c57",
   "metadata": {},
   "source": [
    "# plot individual animal"
   ]
  },
  {
   "cell_type": "code",
   "execution_count": null,
   "id": "361fc910-08a4-4ff8-a689-b2ab0b8a2470",
   "metadata": {
    "tags": []
   },
   "outputs": [],
   "source": [
    "def plot_lick_pattern(ax_near,ax_far, animal):\n",
    "    ax_near.set_ylabel('Trial #')\n",
    "    ax_far.set_yticklabels([])\n",
    "    axs ={'near':ax_near,'far':ax_far}\n",
    "    for key in ['near','far']:\n",
    "        ax = axs[key]\n",
    "        ax.set_xlabel('Position (cm)')\n",
    "        ax.set_xlim(0,230)\n",
    "\n",
    "        # plot areas.\n",
    "        reward_color = '#1B75BB'\n",
    "        non_reward_color = '#EC1C24'\n",
    "        if key=='near': \n",
    "            ax.axvspan(130,150,alpha=0.2,color=reward_color ,linewidth=0)\n",
    "            ax.axvspan(180,200,alpha=0.2,color=non_reward_color,linewidth=0)\n",
    "        else: \n",
    "            ax.axvspan(130,150,alpha=0.2,color=non_reward_color,linewidth=0)\n",
    "            ax.axvspan(180,200,alpha=0.2,color=reward_color ,linewidth=0)\n",
    "        # plot session lines\n",
    "        c_result = results.loc[animal,key]\n",
    "        for session_end in  c_result.groupby('session').agg({'trial_number':'max'}).to_numpy():\n",
    "            ax.axhline(session_end,color='black',linestyle='--',marker='',alpha=0.5)             \n",
    "        #plot licks\n",
    "        scatter_color = '#C51B8A' if key == 'near' else '#00A551'\n",
    "        ax.scatter( c_result.position, c_result.trial_number,\n",
    "                   color = scatter_color,s=0.75, linewidths=0,zorder=10)\n",
    "        ax.set_ylim( c_result.trial_number.max(),0)\n"
   ]
  },
  {
   "cell_type": "code",
   "execution_count": null,
   "id": "d37c186c-b2e4-4b53-9f7d-a144de00dbb3",
   "metadata": {
    "tags": []
   },
   "outputs": [],
   "source": [
    "plt.style.use(styles('publication-tight'))\n",
    "# plot\n",
    "axs = plt.figure(figsize=(55/25.4 ,28/25.4),dpi=1000,layout=\"constrained\").subplot_mosaic(\n",
    "    [\n",
    "        ['near','far'],\n",
    "    ],\n",
    "    empty_sentinel=\"BLANK\",\n",
    "    # set the height ratios between the rows\n",
    "    height_ratios=[1,],\n",
    "    # set the width ratios between the columns\n",
    "    width_ratios=[1,1],\n",
    ")\n",
    "plot_lick_pattern(axs['near'],axs['far'], animals[2])"
   ]
  },
  {
   "cell_type": "markdown",
   "id": "cbb04aed-69fa-419b-a717-82845191a34e",
   "metadata": {
    "tags": []
   },
   "source": [
    "# plot all animals (supplemental)"
   ]
  },
  {
   "cell_type": "code",
   "execution_count": null,
   "id": "5023f9aa-ae61-4b39-8af7-9bdf5ea9fe2b",
   "metadata": {
    "tags": []
   },
   "outputs": [],
   "source": [
    "\n",
    "#animals = ['A4','A5','A7','B2','B3','B4','B5','C1','D1','F1', 'F5']\n",
    "plt.style.use(styles('publication-tight'))\n",
    "# plot\n",
    "axs = plt.figure(figsize=(170/25.4 ,120/25.4),dpi=1000,layout=\"constrained\").subplot_mosaic(\n",
    "    [\n",
    "        ['A4_near','A4_far','BLANK',   'A5_near','A5_far','BLANK',     'A7_near','A7_far'],\n",
    "        ['BLANK' for i in range(8)],\n",
    "        ['B2_near','B2_far','BLANK',   'B3_near','B3_far','BLANK',     'B4_near','B4_far'],\n",
    "        ['BLANK' for i in range(8)],        \n",
    "        ['B5_near','B5_far','BLANK',   'C1_near','C1_far','BLANK',     'D1_near','D1_far'],        \n",
    "        ['BLANK' for i in range(8)],        \n",
    "        ['F1_near','F1_far','BLANK',   'F5_near','F5_far','BLANK',     'BLANK','BLANK'],               \n",
    "    ],\n",
    "    empty_sentinel=\"BLANK\",\n",
    "    # set the height ratios between the rows\n",
    "    height_ratios=[1,0.15,  1,0.15,  1,0.15,  1],\n",
    "    # set the width ratios between the columns\n",
    "    width_ratios=[1,1,0.1,  1,1,0.1,   1,1],\n",
    ")\n",
    "for animal in animals:\n",
    "    plot_lick_pattern(axs[f'{animal}_near'],axs[f'{animal}_far'], animal)"
   ]
  }
 ],
 "metadata": {
  "kernelspec": {
   "display_name": "Python 3 (ipykernel)",
   "language": "python",
   "name": "python3"
  },
  "language_info": {
   "codemirror_mode": {
    "name": "ipython",
    "version": 3
   },
   "file_extension": ".py",
   "mimetype": "text/x-python",
   "name": "python",
   "nbconvert_exporter": "python",
   "pygments_lexer": "ipython3",
   "version": "3.8.12"
  }
 },
 "nbformat": 4,
 "nbformat_minor": 5
}
