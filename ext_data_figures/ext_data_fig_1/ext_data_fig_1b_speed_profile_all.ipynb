{
 "cells": [
  {
   "cell_type": "code",
   "execution_count": null,
   "metadata": {},
   "outputs": [],
   "source": [
    "%load_ext autoreload\n",
    "%autoreload 2\n",
    "import numpy as np\n",
    "import matplotlib.pyplot as plt\n",
    "import vr2p\n",
    "import pandas as pd\n",
    "from tqdm.notebook import tqdm\n",
    "from vr2p import styles\n",
    "from vr2p.gimbl.extract import movement_speed\n",
    "from matplotlib.ticker import MaxNLocator\n",
    "\n",
    "plt.style.use(styles('publication-tight'))"
   ]
  },
  {
   "cell_type": "markdown",
   "metadata": {},
   "source": [
    "# General parameters"
   ]
  },
  {
   "cell_type": "code",
   "execution_count": null,
   "metadata": {},
   "outputs": [],
   "source": [
    "# Parameters\n",
    "animals = ['A4','A5','A7','B2','B3','B4','B5','C1','D1','F1', 'F5']\n",
    "\n",
    "period_number = 3\n",
    "speed_window_size_ms = 500\n",
    "speed_ignore_threshold = 1000\n",
    "spatial_bin_size = 10\n",
    "time_range=[0,40] # session time window to break into periods (in minutes)"
   ]
  },
  {
   "cell_type": "markdown",
   "metadata": {},
   "source": [
    "# Collect data"
   ]
  },
  {
   "cell_type": "code",
   "execution_count": null,
   "metadata": {},
   "outputs": [],
   "source": [
    "# go through animals\n",
    "result = []\n",
    "for animal in tqdm(animals):\n",
    "    # get animal data\n",
    "    data = vr2p.ExperimentData(f'/.../Set A/Tyche-{animal}-SetA.zarr')\n",
    "    # store for heatmaps\n",
    "    near_heatmap = []\n",
    "    far_heatmap  = []\n",
    "    # go through sessions.\n",
    "    num_sessions = len(data.vr)\n",
    "    for session in range(num_sessions):\n",
    "        vr = data.vr[session]\n",
    "        trial = vr.trial.copy()\n",
    "        position = vr.path.time\n",
    "        # remove position info outside of trials (avoids including freezed frames).\n",
    "        position =position[position['trial_number'].isnull()==False].copy()\n",
    "        # add period info.\n",
    "        trial['session_period'] = None\n",
    "        delta_time = (time_range[1]-time_range[0])/period_number\n",
    "        time_start = time_range[0]\n",
    "        for i in range(period_number):\n",
    "            trial.loc[trial.time_start.between(pd.Timedelta(time_start,'min'),pd.Timedelta(time_start+delta_time,'min')),'session_period'] = i\n",
    "            time_start+=delta_time\n",
    "        # Get speed.\n",
    "        position['speed'] = movement_speed(position,\n",
    "                        window_size=speed_window_size_ms,ignore_threshold=speed_ignore_threshold)\n",
    "        # add spatial bin info\n",
    "        spatial_bins = np.arange(0,230+spatial_bin_size,spatial_bin_size)\n",
    "        position['bin'] = pd.cut(position['position'],spatial_bins,labels = np.arange(0,spatial_bins.shape[0]-1),include_lowest=True)\n",
    "        # group by bin and trial_number and get mean speed\n",
    "        binned_speed = position.groupby(['bin','trial_number']).mean().reset_index()[['bin','trial_number','speed']]    # fill in heatmap\n",
    "        # collect heatmaps\n",
    "        for reward_id in [1,2]:\n",
    "            for session_period in range(period_number):\n",
    "                selected_trials = trial.loc[(trial.session_period==session_period)&(trial.reward_id==reward_id),'trial_number']\n",
    "                period_speed = binned_speed.loc[binned_speed.trial_number.isin(selected_trials)]\n",
    "                period_speed = period_speed.groupby('bin').mean().reset_index()\n",
    "                # fill in values.\n",
    "                temp = np.zeros(spatial_bins.shape[0]-1)\n",
    "                temp[period_speed['bin']]=period_speed['speed']\n",
    "                if reward_id==1:\n",
    "                    near_heatmap.append(temp)\n",
    "                else:\n",
    "                    far_heatmap.append(temp)\n",
    "    # collect data\n",
    "    result.append({'animal':animal,'num_sessions':num_sessions,\n",
    "                   'near':np.array(near_heatmap),'far':np.array(far_heatmap)})\n",
    "result = pd.DataFrame(result).set_index('animal')"
   ]
  },
  {
   "cell_type": "code",
   "execution_count": null,
   "metadata": {},
   "outputs": [],
   "source": [
    "display(result)"
   ]
  },
  {
   "cell_type": "markdown",
   "metadata": {},
   "source": [
    "# plot (single animal)"
   ]
  },
  {
   "cell_type": "code",
   "execution_count": null,
   "metadata": {},
   "outputs": [],
   "source": [
    "def plot_speed_heatmap(ax_near, ax_far, animal):\n",
    "    ax_near.set_ylabel('Session #')\n",
    "    ax_far.set_yticklabels([])\n",
    "    axs ={'near':ax_near,'far':ax_far}\n",
    "    for key in ['near','far']:\n",
    "        ax = axs[key]\n",
    "        ax.set_xlabel('Position (cm)')\n",
    "        ax.set_xlim(0,230)\n",
    "\n",
    "        # plot heatmap.\n",
    "        c_result = np.flipud(result.loc[animal,key])\n",
    "        im = ax.imshow(c_result,cmap='viridis',vmin=0,vmax=50,extent = [0,230,0.5,result.loc[animal,'num_sessions']+0.5],aspect='auto')   \n",
    "        # plot reward pos\n",
    "        for line in [130,150,180,200]:\n",
    "            ax.axvline(line,color='red',linestyle='--',marker='')\n",
    "        for line in [60,100]:\n",
    "            ax.axvline(line,color='red',linestyle='--',marker='',linewidth=0.5)\n",
    "        # plot session lines\n",
    "        session_lines = np.arange(period_number, c_result.shape[1],period_number)\n",
    "        #ax.axhline(session_lines,color='black',linestyle='--',marker='',alpha=0.5)   \n",
    "        # invert y axis\n",
    "        ax.invert_yaxis()     \n",
    "        ax.yaxis.set_major_locator(MaxNLocator(integer=True))\n",
    "\n",
    "\n",
    "plt.style.use(styles('publication-tight'))\n",
    "# plot\n",
    "axs = plt.figure(figsize=(55/25.4 ,28/25.4),dpi=1000,layout=\"constrained\").subplot_mosaic(\n",
    "    [\n",
    "        ['near','far'],\n",
    "    ],\n",
    "    empty_sentinel=\"BLANK\",\n",
    "    # set the height ratios between the rows\n",
    "    height_ratios=[1,],\n",
    "    # set the width ratios between the columns\n",
    "    width_ratios=[1,1],\n",
    ")\n",
    "plot_speed_heatmap(axs['near'],axs['far'], animals[2])"
   ]
  },
  {
   "cell_type": "markdown",
   "metadata": {},
   "source": [
    "# plot all"
   ]
  },
  {
   "cell_type": "code",
   "execution_count": null,
   "metadata": {},
   "outputs": [],
   "source": [
    "plt.style.use(styles('publication-tight'))\n",
    "# plot\n",
    "axs = plt.figure(figsize=(170/25.4 ,120/25.4),dpi=1000,layout=\"constrained\").subplot_mosaic(\n",
    "    [\n",
    "        ['A4_near','A4_far','BLANK',   'A5_near','A5_far','BLANK',     'A7_near','A7_far'],\n",
    "        ['BLANK' for i in range(8)],\n",
    "        ['B2_near','B2_far','BLANK',   'B3_near','B3_far','BLANK',     'B4_near','B4_far'],\n",
    "        ['BLANK' for i in range(8)],        \n",
    "        ['B5_near','B5_far','BLANK',   'C1_near','C1_far','BLANK',     'D1_near','D1_far'],        \n",
    "        ['BLANK' for i in range(8)],        \n",
    "        ['F1_near','F1_far','BLANK',   'F5_near','F5_far','BLANK',     'BLANK','BLANK'],               \n",
    "    ],\n",
    "    empty_sentinel=\"BLANK\",\n",
    "    # set the height ratios between the rows\n",
    "    height_ratios=[1,0.15,  1,0.15,  1,0.15,  1],\n",
    "    # set the width ratios between the columns\n",
    "    width_ratios=[1,1,0.1,  1,1,0.1,   1,1],\n",
    ")\n",
    "for animal in animals:\n",
    "    plot_speed_heatmap(axs[f'{animal}_near'],axs[f'{animal}_far'], animal)"
   ]
  },
  {
   "cell_type": "code",
   "execution_count": null,
   "metadata": {},
   "outputs": [],
   "source": []
  }
 ],
 "metadata": {
  "kernelspec": {
   "display_name": "Python 3 (ipykernel)",
   "language": "python",
   "name": "python3"
  },
  "language_info": {
   "codemirror_mode": {
    "name": "ipython",
    "version": 3
   },
   "file_extension": ".py",
   "mimetype": "text/x-python",
   "name": "python",
   "nbconvert_exporter": "python",
   "pygments_lexer": "ipython3",
   "version": "3.8.12"
  }
 },
 "nbformat": 4,
 "nbformat_minor": 2
}
