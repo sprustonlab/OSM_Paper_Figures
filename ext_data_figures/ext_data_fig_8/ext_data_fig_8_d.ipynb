{
 "cells": [
  {
   "cell_type": "code",
   "execution_count": null,
   "id": "d9240c54",
   "metadata": {},
   "outputs": [],
   "source": [
    "import numpy as np\n",
    "import pandas as pd\n",
    "import pickle\n",
    "import scipy\n",
    "\n",
    "##from statannot import add_stat_annotation\n",
    "from statannotations.Annotator import Annotator\n",
    "import matplotlib\n",
    "matplotlib.rcParams['pdf.fonttype'] = 42\n",
    "import matplotlib.pyplot as plt\n",
    "import seaborn as sb"
   ]
  },
  {
   "cell_type": "code",
   "execution_count": null,
   "id": "e9391449",
   "metadata": {},
   "outputs": [],
   "source": [
    "all_corr_sep_sequences = np.load('./all_corr_sep_sequences.npy',allow_pickle=True)"
   ]
  },
  {
   "cell_type": "code",
   "execution_count": null,
   "id": "31e665bc",
   "metadata": {},
   "outputs": [],
   "source": [
    "tot_iter_run = 100\n",
    "all_below_thresh = []\n",
    "for seq in range(4):\n",
    "    all_corr_sep = all_corr_sep_sequences[seq]\n",
    "    below_thresh= tot_iter_run*np.ones((len(all_corr_sep), 26*4))\n",
    "    thresh_cross = 0.2\n",
    "    for rep in range(len(all_corr_sep)):\n",
    "        print(seq, rep)\n",
    "        corr_sep_curr = all_corr_sep[rep]\n",
    "        for i in range(np.shape(corr_sep_curr)[1]):\n",
    "            \n",
    "            plt.plot(corr_sep_curr[:,i], label = str(i))\n",
    "            if len(np.where(corr_sep_curr[:,i]<thresh_cross)[0])>0:\n",
    "                below_thresh[rep, i] = np.where(corr_sep_curr[:,i]<thresh_cross)[0][0]\n",
    "                print(np.where(corr_sep_curr[:,i]<thresh_cross)[0][0])\n",
    "        plt.legend()\n",
    "        plt.show()\n",
    "    all_below_thresh.append(below_thresh)"
   ]
  },
  {
   "cell_type": "code",
   "execution_count": null,
   "id": "1e790d8f",
   "metadata": {},
   "outputs": [],
   "source": [
    "n_iter =10\n",
    "all_titles= ['visual then same reward','visual then different reward', 'same reward then visual','different reward then visual' ]\n",
    "##fig, axs = plt.subplots(1,4,figsize = (23,6))\n",
    "##fig, axs = plt.subplots(1,4,figsize = (18,3))\n",
    "for curr_fig in range(0, 4):\n",
    "    all_loc = []\n",
    "    when_cross = []\n",
    "    below_thresh = np.column_stack((all_below_thresh[curr_fig][:,1], all_below_thresh[curr_fig][:,6]))##all_below_thresh[curr_fig][:,1]\n",
    "    cross1 = below_thresh[:,0]<tot_iter_run\n",
    "    cross2 = below_thresh[:,1]<tot_iter_run\n",
    "    learned = cross1*cross2\n",
    "\n",
    "    for i in range(len(below_thresh)):\n",
    "        for j in range(len(below_thresh[0])):\n",
    "            if learned[i]== True:  ## only plotting simulations that learn fully\n",
    "                when_cross.append(below_thresh[i,j]*n_iter)\n",
    "                all_loc.append(j)\n",
    "    if curr_fig == 0:\n",
    "        Xplot = pd.DataFrame(np.array([when_cross, all_loc, [curr_fig]*len(when_cross)]).T)\n",
    "    else:\n",
    "        Xplot = pd.concat([Xplot,pd.DataFrame(np.array([when_cross, all_loc, [curr_fig]*len(when_cross)]).T)],ignore_index=True)\n"
   ]
  },
  {
   "cell_type": "code",
   "execution_count": null,
   "id": "7f546609",
   "metadata": {},
   "outputs": [],
   "source": [
    "all_below_thresh = np.array(all_below_thresh)\n",
    "fig, axs = plt.subplots(1, figsize = (14,8))\n",
    "\n",
    "##sb.boxplot(x = 2, y = 0, data =Xplot,hue = 1,palette =[ 'lightskyblue','#5B6BA8' ], ax = axs, showfliers= False)\n",
    "sb.boxplot(x = 2, y = 0, data =Xplot,hue = 1,palette =[ '#5B6BA8','lightskyblue' ], ax = axs, showfliers= False)\n",
    "pairs=[((0.0,0.0),(0.0,1.0)), ((1.0,0.0),(1.0,1.0)), ((2.0,0.0),(2.0,1.0)), ((3.0,0.0),(3.0,1.0))]\n",
    "\n",
    "annot = Annotator(axs, pairs, data=Xplot, x=2, y=0, hue = 1)\n",
    "##Annotator.new_plot(ax= axs, pairs, data=Xplot, x=2, y=0, hue = 1)\n",
    "annot.configure(test='t-test_paired').apply_test().annotate()\n",
    "##annot.configure(test='Wilcoxon').apply_test().annotate()\n",
    "\n",
    "xloc = -0.24\n",
    "all_below_thresh_jitter = (all_below_thresh*n_iter) + np.random.normal(loc=0, scale=0.05, size=np.shape(all_below_thresh))\n",
    "for seq in range(0,4):\n",
    "    for i in range(0,20):\n",
    "        jitterx1 = np.random.normal(loc=0, scale=0.05)\n",
    "        jitterx2 = np.random.normal(loc=0, scale=0.05)\n",
    "        if np.max(all_below_thresh_jitter[seq][i,0:3]) < tot_iter_run*n_iter-1 and np.max(all_below_thresh_jitter[seq][i,5:8]) < tot_iter_run*n_iter-1:\n",
    "            ##print(all_below_thresh_jitter[seq][i,0:3], all_below_thresh_jitter[seq][i,5:8])\n",
    "            axs.plot([xloc + jitterx1,xloc+0.5 + jitterx2],[np.mean(all_below_thresh_jitter[seq][i,0:3]), np.mean(all_below_thresh_jitter[seq][i,5:8])], linewidth=0.5, color = 'grey', alpha = 0.5, rasterized = False)\n",
    "            axs.scatter([xloc + jitterx1,xloc+0.5 + jitterx2],[np.mean(all_below_thresh_jitter[seq][i,0:3]), np.mean(all_below_thresh_jitter[seq][i,5:8])], color = ['navy', 'dodgerblue'],s= 20)\n",
    "    xloc= xloc + 1##0.99\n",
    "    \n",
    "axs.set_ylim(0,950)\n",
    "plt.legend([])\n",
    "axs.set_xticklabels(all_titles, rotation = 20)\n",
    "axs.set_ylabel('Number of iterations to decorrelate')\n",
    "plt.savefig('../FIGURES/decorrelation_time_diff_sequence_all_in_one_connected_p_val_t_test_paired.pdf', format='pdf', dpi=500)"
   ]
  },
  {
   "cell_type": "code",
   "execution_count": null,
   "id": "c85ee171",
   "metadata": {},
   "outputs": [],
   "source": [
    "for seq in range(0, 4):\n",
    "    r0 = np.array(Xplot.loc[(Xplot[2]==seq) &(Xplot[1]==0)][0])\n",
    "    r1 = np.array(Xplot.loc[(Xplot[2]==seq) &(Xplot[1]==1)][0])\n",
    "    tstat,pval = scipy.stats.ttest_rel(r0, r1)\n",
    "    print(all_titles[seq], tstat, pval, len(r0),len(r1))"
   ]
  }
 ],
 "metadata": {
  "kernelspec": {
   "display_name": "Python 3 (ipykernel)",
   "language": "python",
   "name": "python3"
  },
  "language_info": {
   "codemirror_mode": {
    "name": "ipython",
    "version": 3
   },
   "file_extension": ".py",
   "mimetype": "text/x-python",
   "name": "python",
   "nbconvert_exporter": "python",
   "pygments_lexer": "ipython3",
   "version": "3.8.12"
  }
 },
 "nbformat": 4,
 "nbformat_minor": 5
}
