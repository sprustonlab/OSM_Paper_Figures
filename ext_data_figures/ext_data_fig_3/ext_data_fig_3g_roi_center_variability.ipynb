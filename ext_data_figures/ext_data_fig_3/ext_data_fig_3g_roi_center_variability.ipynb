{
 "cells": [
  {
   "attachments": {},
   "cell_type": "markdown",
   "id": "9051cad8-f17d-47ae-a94e-3ff037404efa",
   "metadata": {
    "tags": []
   },
   "source": [
    "# ROI Variability\n",
    "\n",
    "Plots the variability of ROI centers across sessions"
   ]
  },
  {
   "cell_type": "code",
   "execution_count": 1,
   "id": "ee5fd23d-3d63-4633-b810-87dd15e09407",
   "metadata": {
    "tags": []
   },
   "outputs": [],
   "source": [
    "%load_ext autoreload\n",
    "%autoreload 2\n",
    "import numpy as np\n",
    "import vr2p\n",
    "import gcsfs, pickle\n",
    "from tqdm.notebook import tqdm\n",
    "import matplotlib.pyplot as plt\n",
    "from scipy.spatial import distance\n",
    "import pandas as pd\n",
    "from vr2p import styles"
   ]
  },
  {
   "attachments": {},
   "cell_type": "markdown",
   "id": "26789d03-4c51-475f-bb4c-7fb7d674f5c5",
   "metadata": {},
   "source": [
    "# Main Parameters"
   ]
  },
  {
   "cell_type": "code",
   "execution_count": 2,
   "id": "f0f731a6-5a0f-43ca-8f03-51686bca0493",
   "metadata": {
    "tags": []
   },
   "outputs": [],
   "source": [
    "animals = ['A4','A5','A7','B2','B3','B4','B5','C1','D1','F1', 'F5']\n",
    "pix_size = [1.333,2] #xy"
   ]
  },
  {
   "attachments": {},
   "cell_type": "markdown",
   "id": "87633f72-c534-4d2c-9342-40161b2165e6",
   "metadata": {},
   "source": [
    "# Collect matched cell data.\n",
    "\n",
    "This only uses clustered rois that passed the 'minimum presence'  test"
   ]
  },
  {
   "cell_type": "code",
   "execution_count": null,
   "id": "23048edf-7d26-47e0-8942-3e6f4faf525c",
   "metadata": {
    "tags": []
   },
   "outputs": [
    {
     "data": {
      "application/vnd.jupyter.widget-view+json": {
       "model_id": "70f9d125c4f540f898ab6b961477ee80",
       "version_major": 2,
       "version_minor": 0
      },
      "text/plain": [
       "  0%|          | 0/11 [00:00<?, ?it/s]"
      ]
     },
     "metadata": {},
     "output_type": "display_data"
    }
   ],
   "source": [
    "def collect_masks(animal):\n",
    "    fs = gcsfs.GCSFileSystem(project='sprustonlab-meso')\n",
    "    with fs.open(f'/.../registration/match-Tyche-{animal}.pkl', 'rb') as handle:\n",
    "        matched_masks, matched_im, template_masks, template_im = pickle.load(handle)\n",
    "    return {'animal':animal,'matched_masks':matched_masks, \n",
    "            'matched_im':matched_im,'template_masks':template_masks,\n",
    "            'template_im':template_im}\n",
    "matched_info = [ collect_masks(animal) for animal in tqdm(animals)]"
   ]
  },
  {
   "attachments": {},
   "cell_type": "markdown",
   "id": "a05acce0-1ab1-44d5-af07-a5718e688f79",
   "metadata": {},
   "source": [
    "# Get distance to center for all masks"
   ]
  },
  {
   "cell_type": "code",
   "execution_count": 4,
   "id": "6caaddd7-07c2-4a31-a140-6c9b95b68c3a",
   "metadata": {
    "tags": []
   },
   "outputs": [
    {
     "data": {
      "text/html": [
       "<div>\n",
       "<style scoped>\n",
       "    .dataframe tbody tr th:only-of-type {\n",
       "        vertical-align: middle;\n",
       "    }\n",
       "\n",
       "    .dataframe tbody tr th {\n",
       "        vertical-align: top;\n",
       "    }\n",
       "\n",
       "    .dataframe thead tr th {\n",
       "        text-align: left;\n",
       "    }\n",
       "\n",
       "    .dataframe thead tr:last-of-type th {\n",
       "        text-align: right;\n",
       "    }\n",
       "</style>\n",
       "<table border=\"1\" class=\"dataframe\">\n",
       "  <thead>\n",
       "    <tr>\n",
       "      <th></th>\n",
       "      <th colspan=\"3\" halign=\"left\">distance</th>\n",
       "    </tr>\n",
       "    <tr>\n",
       "      <th></th>\n",
       "      <th>mean</th>\n",
       "      <th>std</th>\n",
       "      <th>sem</th>\n",
       "    </tr>\n",
       "    <tr>\n",
       "      <th>animal</th>\n",
       "      <th></th>\n",
       "      <th></th>\n",
       "      <th></th>\n",
       "    </tr>\n",
       "  </thead>\n",
       "  <tbody>\n",
       "    <tr>\n",
       "      <th>A4</th>\n",
       "      <td>1.070184</td>\n",
       "      <td>0.481705</td>\n",
       "      <td>0.007428</td>\n",
       "    </tr>\n",
       "    <tr>\n",
       "      <th>A5</th>\n",
       "      <td>1.014092</td>\n",
       "      <td>0.549289</td>\n",
       "      <td>0.008038</td>\n",
       "    </tr>\n",
       "    <tr>\n",
       "      <th>A7</th>\n",
       "      <td>0.996451</td>\n",
       "      <td>0.419054</td>\n",
       "      <td>0.005532</td>\n",
       "    </tr>\n",
       "    <tr>\n",
       "      <th>B2</th>\n",
       "      <td>1.087802</td>\n",
       "      <td>0.515537</td>\n",
       "      <td>0.008988</td>\n",
       "    </tr>\n",
       "    <tr>\n",
       "      <th>B3</th>\n",
       "      <td>1.067010</td>\n",
       "      <td>0.362929</td>\n",
       "      <td>0.005461</td>\n",
       "    </tr>\n",
       "    <tr>\n",
       "      <th>B4</th>\n",
       "      <td>0.961818</td>\n",
       "      <td>0.521683</td>\n",
       "      <td>0.007132</td>\n",
       "    </tr>\n",
       "    <tr>\n",
       "      <th>B5</th>\n",
       "      <td>0.992598</td>\n",
       "      <td>0.420226</td>\n",
       "      <td>0.007132</td>\n",
       "    </tr>\n",
       "    <tr>\n",
       "      <th>C1</th>\n",
       "      <td>1.149174</td>\n",
       "      <td>0.427140</td>\n",
       "      <td>0.006749</td>\n",
       "    </tr>\n",
       "    <tr>\n",
       "      <th>D1</th>\n",
       "      <td>1.134769</td>\n",
       "      <td>0.491823</td>\n",
       "      <td>0.008078</td>\n",
       "    </tr>\n",
       "    <tr>\n",
       "      <th>F1</th>\n",
       "      <td>0.960001</td>\n",
       "      <td>0.478878</td>\n",
       "      <td>0.007788</td>\n",
       "    </tr>\n",
       "    <tr>\n",
       "      <th>F5</th>\n",
       "      <td>1.014324</td>\n",
       "      <td>0.490405</td>\n",
       "      <td>0.007788</td>\n",
       "    </tr>\n",
       "  </tbody>\n",
       "</table>\n",
       "</div>"
      ],
      "text/plain": [
       "        distance                    \n",
       "            mean       std       sem\n",
       "animal                              \n",
       "A4      1.070184  0.481705  0.007428\n",
       "A5      1.014092  0.549289  0.008038\n",
       "A7      0.996451  0.419054  0.005532\n",
       "B2      1.087802  0.515537  0.008988\n",
       "B3      1.067010  0.362929  0.005461\n",
       "B4      0.961818  0.521683  0.007132\n",
       "B5      0.992598  0.420226  0.007132\n",
       "C1      1.149174  0.427140  0.006749\n",
       "D1      1.134769  0.491823  0.008078\n",
       "F1      0.960001  0.478878  0.007788\n",
       "F5      1.014324  0.490405  0.007788"
      ]
     },
     "metadata": {},
     "output_type": "display_data"
    },
    {
     "data": {
      "text/html": [
       "<div>\n",
       "<style scoped>\n",
       "    .dataframe tbody tr th:only-of-type {\n",
       "        vertical-align: middle;\n",
       "    }\n",
       "\n",
       "    .dataframe tbody tr th {\n",
       "        vertical-align: top;\n",
       "    }\n",
       "\n",
       "    .dataframe thead th {\n",
       "        text-align: right;\n",
       "    }\n",
       "</style>\n",
       "<table border=\"1\" class=\"dataframe\">\n",
       "  <thead>\n",
       "    <tr style=\"text-align: right;\">\n",
       "      <th></th>\n",
       "      <th>animal</th>\n",
       "      <th>distance</th>\n",
       "    </tr>\n",
       "  </thead>\n",
       "  <tbody>\n",
       "    <tr>\n",
       "      <th>0</th>\n",
       "      <td>A4</td>\n",
       "      <td>0.840624</td>\n",
       "    </tr>\n",
       "    <tr>\n",
       "      <th>1</th>\n",
       "      <td>A4</td>\n",
       "      <td>0.426560</td>\n",
       "    </tr>\n",
       "    <tr>\n",
       "      <th>2</th>\n",
       "      <td>A4</td>\n",
       "      <td>0.773149</td>\n",
       "    </tr>\n",
       "    <tr>\n",
       "      <th>3</th>\n",
       "      <td>A4</td>\n",
       "      <td>0.971489</td>\n",
       "    </tr>\n",
       "    <tr>\n",
       "      <th>4</th>\n",
       "      <td>A4</td>\n",
       "      <td>0.897633</td>\n",
       "    </tr>\n",
       "    <tr>\n",
       "      <th>...</th>\n",
       "      <td>...</td>\n",
       "      <td>...</td>\n",
       "    </tr>\n",
       "    <tr>\n",
       "      <th>46596</th>\n",
       "      <td>F5</td>\n",
       "      <td>0.951866</td>\n",
       "    </tr>\n",
       "    <tr>\n",
       "      <th>46597</th>\n",
       "      <td>F5</td>\n",
       "      <td>0.914658</td>\n",
       "    </tr>\n",
       "    <tr>\n",
       "      <th>46598</th>\n",
       "      <td>F5</td>\n",
       "      <td>1.873895</td>\n",
       "    </tr>\n",
       "    <tr>\n",
       "      <th>46599</th>\n",
       "      <td>F5</td>\n",
       "      <td>1.481244</td>\n",
       "    </tr>\n",
       "    <tr>\n",
       "      <th>46600</th>\n",
       "      <td>F5</td>\n",
       "      <td>1.912172</td>\n",
       "    </tr>\n",
       "  </tbody>\n",
       "</table>\n",
       "<p>46601 rows × 2 columns</p>\n",
       "</div>"
      ],
      "text/plain": [
       "      animal  distance\n",
       "0         A4  0.840624\n",
       "1         A4  0.426560\n",
       "2         A4  0.773149\n",
       "3         A4  0.971489\n",
       "4         A4  0.897633\n",
       "...      ...       ...\n",
       "46596     F5  0.951866\n",
       "46597     F5  0.914658\n",
       "46598     F5  1.873895\n",
       "46599     F5  1.481244\n",
       "46600     F5  1.912172\n",
       "\n",
       "[46601 rows x 2 columns]"
      ]
     },
     "metadata": {},
     "output_type": "display_data"
    }
   ],
   "source": [
    "result = []\n",
    "all_distances = []\n",
    "for info in matched_info:\n",
    "    animal_distances =[]\n",
    "    for cluster in info['matched_masks']:\n",
    "        # convert from pixels to um given median stored as yx (numpy array)\n",
    "        centers_um = np.array([ [mask['med'][1]*pix_size[0],  mask['med'][0]*pix_size[1]]for mask in cluster])\n",
    "        mean_center_um = np.expand_dims(np.mean(centers_um,axis=0),axis=0)\n",
    "        distances = distance.cdist(mean_center_um,centers_um)\n",
    "        result.append({'animal':info['animal'],\n",
    "                       'distance':np.mean(distances),\n",
    "                       })\n",
    "        # store mean distance for this mask.abs\n",
    "        animal_distances.append(np.mean(distances))\n",
    "    all_distances.append(animal_distances)\n",
    "result_all = pd.DataFrame(result)\n",
    "\n",
    "result = result_all.groupby('animal').agg(['mean','std','sem'])\n",
    "display(result)\n",
    "display(result_all)"
   ]
  },
  {
   "attachments": {},
   "cell_type": "markdown",
   "id": "b64de85b-1e78-4bfc-b5c6-f9f4617259a8",
   "metadata": {},
   "source": [
    "# Plot"
   ]
  },
  {
   "cell_type": "code",
   "execution_count": 12,
   "id": "cc22f555",
   "metadata": {},
   "outputs": [
    {
     "data": {
      "text/plain": [
       "Text(0.5, 0, 'Center variability\\n($\\\\mu$m)')"
      ]
     },
     "execution_count": 12,
     "metadata": {},
     "output_type": "execute_result"
    },
    {
     "data": {
      "image/png": "[encoded data removed]",
      "text/plain": [
       "<Figure size 787.402x885.827 with 1 Axes>"
      ]
     },
     "metadata": {},
     "output_type": "display_data"
    }
   ],
   "source": [
    "plt.style.use(styles('publication-tight'))\n",
    "# plot and set figure background to be transparent \n",
    "axs = plt.figure(figsize=(20/25.4 ,22.5/25.4),dpi=1000,layout=\"constrained\", ).subplot_mosaic(\n",
    "    [\n",
    "        ['plot'],\n",
    "    ],\n",
    "    empty_sentinel=\"BLANK\",\n",
    "    # set the height ratios between the rows\n",
    "    height_ratios=[1,],\n",
    "    # set the width ratios between the columns\n",
    "    width_ratios=[1],\n",
    ")\n",
    "ax = axs['plot']\n",
    "# plot boxplots.\n",
    "box = ax.boxplot(all_distances,vert=False, showfliers=False, patch_artist=True,capwidths=0.5, widths=0.75, whis=[0,100])\n",
    "\n",
    "# Customize boxes\n",
    "for b in box['boxes']:\n",
    "    b.set(color='black', linewidth=0.5)       # Border color and line width\n",
    "    b.set(facecolor='gray')           # Fill color for boxes\n",
    "\n",
    "# Customize whiskers\n",
    "for whisker in box['whiskers']:\n",
    "    whisker.set(color='black', linewidth=0.5, linestyle=\"-\")  # Whisker color, line width, and style\n",
    "\n",
    "# Customize caps\n",
    "for cap in box['caps']:\n",
    "    cap.set(color='black', linewidth=0.5)   # Cap color and line width\n",
    "\n",
    "# Customize medians\n",
    "for median in box['medians']:\n",
    "    median.set(color='red', linewidth=0.25)   # Median line color and line width\n",
    "\n",
    "ax.set_ylim(-0.1,len(animals)+0.5)\n",
    "ax.set_xlim(-0.25,6.25)\n",
    "ax.set_xticks(np.arange(0,6.25,2))\n",
    "#ax.set_yticks(y_pos)\n",
    "ax.set_yticklabels([])\n",
    "ax.set_ylabel('Animal')\n",
    "ax.set_xlabel('Center variability'+\"\\n\"+r'($\\mu$m)' )"
   ]
  }
 ],
 "metadata": {
  "kernelspec": {
   "display_name": "vr2p",
   "language": "python",
   "name": "python3"
  },
  "language_info": {
   "codemirror_mode": {
    "name": "ipython",
    "version": 3
   },
   "file_extension": ".py",
   "mimetype": "text/x-python",
   "name": "python",
   "nbconvert_exporter": "python",
   "pygments_lexer": "ipython3",
   "version": "3.8.16"
  }
 },
 "nbformat": 4,
 "nbformat_minor": 5
}
