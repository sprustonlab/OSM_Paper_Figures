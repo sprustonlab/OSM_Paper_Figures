{
 "cells": [
  {
   "cell_type": "code",
   "execution_count": null,
   "metadata": {},
   "outputs": [],
   "source": [
    "import numpy as np\n",
    "import pandas as pd\n",
    "from tqdm.notebook import tqdm\n",
    "import matplotlib.pyplot as plt\n",
    "\n",
    "import vr2p\n",
    "# import vr2p.signal\n",
    "from vr2p.gimbl.transform import add_ranged_timestamp_values\n",
    "import linear2ac.place\n",
    "\n",
    "import os\n",
    "import pickle\n",
    "\n",
    "import dask\n",
    "from dask import delayed, compute\n",
    "from tqdm import tqdm"
   ]
  },
  {
   "cell_type": "markdown",
   "metadata": {},
   "source": [
    "# Helper functions"
   ]
  },
  {
   "cell_type": "code",
   "execution_count": null,
   "metadata": {},
   "outputs": [],
   "source": [
    "# Initializes and configures a Tyche1dProtocol instance for place field detection.\n",
    "def create_pf_detect(min_speed, df_window_size=50, df_sigma_baseline=600, bootstrap_do_test=False):\n",
    "    pf_detect = linear2ac.place.Tyche1dProtocol()\n",
    "    pf_detect.config.min_speed = min_speed\n",
    "    pf_detect.config.bootstrap_do_test = bootstrap_do_test\n",
    "    pf_detect.config.df_window_size = df_window_size\n",
    "    pf_detect.config.df_sigma_baseline = df_sigma_baseline\n",
    "    return pf_detect"
   ]
  },
  {
   "cell_type": "code",
   "execution_count": null,
   "metadata": {},
   "outputs": [],
   "source": [
    "def get_correlation_matrix(data, data_ref):\n",
    "    from scipy.stats import pearsonr\n",
    "\n",
    "    corr_matrix = np.zeros((data_ref.shape[0],data.shape[0]))\n",
    "\n",
    "    for ind_data_ref in range(data_ref.shape[0]):\n",
    "        for ind_data in range(data.shape[0]):\n",
    "            corr_matrix[ind_data_ref, ind_data] =  pearsonr(data[ind_data,:], data_ref[ind_data_ref,:])[0]\n",
    "\n",
    "    return corr_matrix\n",
    "\n",
    "import seaborn as sns\n",
    "def plot_correlation_matrix_sns(ax, data, data_ref, ttl=None, vmin = -1, vmax = 1, reward_positions = [], reward_positions_ref = [], show_reward_positions=False):\n",
    "    corr_matrix = get_correlation_matrix(data, data_ref)\n",
    "\n",
    "    im = sns.heatmap(corr_matrix,cmap = 'icefire', vmin=vmin, vmax=vmax, ax=ax, square=True, cbar=True)\n",
    "    ax.set_xlabel('Position (cm)',fontsize = 10)\n",
    "    ax.set_ylabel('Position (cm)',fontsize = 10)\n",
    "    xticks = [ii*10 for ii in range(1+int(np.floor(data.shape[0]/10)))]\n",
    "    yticks = [ii*10 for ii in range(1+int(np.floor(data_ref.shape[0]/10)))]\n",
    "    ax.set_xticks(ticks = xticks , fontsize=10)\n",
    "    ax.set_yticks(ticks = yticks, fontsize=10)\n",
    "\n",
    "    ax.set_title(ttl,fontsize=20)\n",
    "    tick_font_size = 4\n",
    "    xlabels = [str(ii*50) for ii in range(1+int(np.floor(data.shape[0]/10)))]\n",
    "    ylabels = [str(ii*50) for ii in range(1+int(np.floor(data_ref.shape[0]/10)))]\n",
    "    ax.set_xticklabels(xlabels, fontsize = 10)\n",
    "    ax.set_yticklabels(ylabels, fontsize = 10)\n",
    "    # ax.collections[0].colorbar.set_ticklabels([''])\n",
    "\n",
    "    if show_reward_positions:\n",
    "        for rwd_ps in reward_positions:\n",
    "            ax.axvspan((rwd_ps-10)/5, (rwd_ps+10)/5, color='blue', alpha=0.25,linewidth=0)\n",
    "\n",
    "        for rwd_ps in reward_positions_ref:\n",
    "            ax.axhspan((rwd_ps-10)/5, (rwd_ps+10)/5, color='blue', alpha=0.25,linewidth=0)"
   ]
  },
  {
   "cell_type": "markdown",
   "metadata": {},
   "source": [
    "# Load data"
   ]
  },
  {
   "cell_type": "code",
   "execution_count": null,
   "metadata": {},
   "outputs": [],
   "source": [
    "data_dir = '../stretched_trials/'"
   ]
  },
  {
   "cell_type": "code",
   "execution_count": null,
   "metadata": {},
   "outputs": [],
   "source": [
    "# List of datasets\n",
    "animals = ['D1','F1_4','F5_2']\n",
    "animal = 'F5_2'"
   ]
  },
  {
   "cell_type": "code",
   "execution_count": null,
   "metadata": {},
   "outputs": [],
   "source": [
    "# Initialize empty lists to store data for each animal\n",
    "F_raw_list = []\n",
    "vr_list = []\n",
    "position_list = []\n",
    "\n",
    "for animal in animals:\n",
    "    # Load raw imaging data\n",
    "    data_file_name = animal + '_F_raw.npy'\n",
    "    F_raw = np.load(os.path.join(data_dir, data_file_name))\n",
    "\n",
    "    # Load the vr object from the saved pickle file\n",
    "    vr_dir = data_dir + animal + '_vr.pkl'\n",
    "    with open(vr_dir, 'rb') as file:\n",
    "        vr = pickle.load(file)\n",
    "\n",
    "    # Load the dataFrame with the behavioral data\n",
    "    position_dir = data_dir + animal + '_position.pkl'\n",
    "    position = pd.read_pickle(position_dir)\n",
    "\n",
    "    F_raw_list.append(F_raw)\n",
    "    vr_list.append(vr)\n",
    "    position_list.append(position)"
   ]
  },
  {
   "cell_type": "markdown",
   "metadata": {},
   "source": [
    "# Detect Place Fields "
   ]
  },
  {
   "cell_type": "code",
   "execution_count": null,
   "metadata": {},
   "outputs": [],
   "source": [
    "# Parameters\n",
    "bin_size = 5\n",
    "min_speed = 5\n",
    "stop_potision = 230\n",
    "stop_potision_stretch = 330\n",
    "reward_positions_array = np.array([[140, 190],[190,290]])\n",
    "\n",
    "pf_criteria = 'significant' # 'putative' or 'significant'"
   ]
  },
  {
   "cell_type": "markdown",
   "metadata": {},
   "source": [
    "For each of the three datasets, calculate place fields for each cell during both regular and stretch trials, and obtain the average neural response for each trial."
   ]
  },
  {
   "cell_type": "markdown",
   "metadata": {},
   "source": [
    "%% Running this cell takes long (~30min)."
   ]
  },
  {
   "cell_type": "code",
   "execution_count": null,
   "metadata": {},
   "outputs": [],
   "source": [
    "class PlaceFieldData:\n",
    "    pass\n",
    "\n",
    "datasets = []\n",
    "\n",
    "for ii in range(len(animals)):\n",
    "    F_raw = F_raw_list[ii]\n",
    "    vr = vr_list[ii]\n",
    "    position = position_list[ii] \n",
    "\n",
    "    trial = vr.trial.copy()\n",
    "    stopTrial = position.trial_number.max()\n",
    "    if animal == 'F5_2':\n",
    "        stopTrial = 111\n",
    "\n",
    "    smooth_binF_normal = []\n",
    "    smooth_binF_probe = []\n",
    "    order_normal = []\n",
    "    order_probe = []\n",
    "    centers_normal = []\n",
    "    centers_probe = []\n",
    "\n",
    "    # Define a function for processing a single reward_id with parallelization\n",
    "    @delayed\n",
    "    def process_reward_id(reward_id):\n",
    "        # Filter trials and frames\n",
    "        selected_trials = trial.loc[(trial.reward_id == reward_id) & (trial.status != 'NO_RESPONSE') &\n",
    "                                    (trial.trial_number <= stopTrial), 'trial_number']\n",
    "        selected_frames_normal = position.loc[(position['probe_status'] == False) & position['trial_number'].isin(selected_trials), 'frame']\n",
    "        selected_frames_stretch = position.loc[(position['probe_status'] == True) & position['trial_number'].isin(selected_trials), 'frame']\n",
    "\n",
    "        # Detect place cells for normal and probe trials\n",
    "        pf_detect_normal = create_pf_detect(min_speed)\n",
    "        pf_detect_normal.detect(F_raw, vr, bin_size, selected_frames_normal, verbose=False)\n",
    "\n",
    "        pf_detect_probe = create_pf_detect(min_speed)\n",
    "        pf_detect_probe.detect(F_raw, vr, bin_size, selected_frames_stretch, track_size=stop_potision_stretch, verbose=False)\n",
    "\n",
    "        # Collect results\n",
    "        results = {\n",
    "            \"smooth_binF_normal\": pf_detect_normal.smooth_binF,\n",
    "            \"centers_normal\": pf_detect_normal.pf_significant.centers,\n",
    "            \"smooth_binF_probe\": pf_detect_probe.smooth_binF,\n",
    "            \"centers_probe\": pf_detect_probe.pf_significant.centers\n",
    "        }\n",
    "\n",
    "        # Append orders based on criteria\n",
    "        if pf_criteria == 'significant':\n",
    "            results[\"order_normal\"] = pf_detect_normal.pf_significant.order\n",
    "            results[\"order_probe\"] = pf_detect_probe.pf_significant.order\n",
    "        elif pf_criteria == 'putative':\n",
    "            results[\"order_normal\"] = pf_detect_normal.pf_putative.order\n",
    "            results[\"order_probe\"] = pf_detect_probe.pf_putative.order\n",
    "\n",
    "        return results\n",
    "\n",
    "    # Parallelize processing over reward_ids\n",
    "    tasks = [process_reward_id(reward_id) for reward_id in [1, 2]]\n",
    "    results = compute(*tasks)\n",
    "\n",
    "    # Collect and organize results\n",
    "    for result in results:\n",
    "        smooth_binF_normal.append(result[\"smooth_binF_normal\"])\n",
    "        centers_normal.append(result[\"centers_normal\"])\n",
    "        smooth_binF_probe.append(result[\"smooth_binF_probe\"])\n",
    "        centers_probe.append(result[\"centers_probe\"])\n",
    "        order_normal.append(result[\"order_normal\"])\n",
    "        order_probe.append(result[\"order_probe\"])\n",
    "\n",
    "    pf_dataset = PlaceFieldData()\n",
    "    pf_dataset.smooth_binF_normal = smooth_binF_normal\n",
    "    pf_dataset.smooth_binF_probe = smooth_binF_probe\n",
    "    pf_dataset.order_normal = order_normal\n",
    "    pf_dataset.order_probe = order_probe\n",
    "    pf_dataset.centers_normal = centers_normal\n",
    "    pf_dataset.centers_probe = centers_probe \n",
    "\n",
    "    datasets.append(pf_dataset)   \n",
    "        "
   ]
  },
  {
   "cell_type": "markdown",
   "metadata": {},
   "source": [
    "# Figure 5 e, f"
   ]
  },
  {
   "cell_type": "markdown",
   "metadata": {},
   "source": [
    "Identify each neuron’s place field during both regular and stretched trials."
   ]
  },
  {
   "cell_type": "code",
   "execution_count": null,
   "metadata": {},
   "outputs": [],
   "source": [
    "def get_pf_locations(n_neuron,centers1,centers2):  \n",
    "    com_array = []      \n",
    "    for ii in range(n_neuron):\n",
    "        com1 = centers1[centers1[:,0]==ii,1]\n",
    "        com2 = centers2[centers2[:,0]==ii,1]\n",
    "\n",
    "        if ~com1.any(): com1 = -1\n",
    "        if ~com2.any(): com2 = -1\n",
    "\n",
    "        com = np.array(np.meshgrid(com1,com2)).T.reshape(-1,2)\n",
    "        com = np.hstack((ii*np.ones((len(com),1)),com))\n",
    "\n",
    "        com_array.append(com)\n",
    "\n",
    "    com_array = np.vstack(com_array)\n",
    "        \n",
    "    return com_array\n"
   ]
  },
  {
   "cell_type": "code",
   "execution_count": null,
   "metadata": {},
   "outputs": [],
   "source": [
    "pf_arrays_normal_probe = []\n",
    "\n",
    "for ii in range(len(datasets)):\n",
    "    n_neuron = datasets[ii].smooth_binF_normal[0].shape[0]\n",
    "    \n",
    "    pf_array_normal_probe = []\n",
    "\n",
    "    for reward_id in range(2):\n",
    "        com_normal_probe = get_pf_locations(n_neuron,datasets[ii].centers_normal[reward_id],datasets[ii].centers_probe[reward_id])\n",
    "        pf_array_normal_probe.append(com_normal_probe)\n",
    "\n",
    "    pf_arrays_normal_probe.append(pf_array_normal_probe)"
   ]
  },
  {
   "cell_type": "markdown",
   "metadata": {},
   "source": [
    "Place field locations in the stretched Near trials plotted against those in the regular Near trials (n = 3 mice, data pooled together). "
   ]
  },
  {
   "cell_type": "code",
   "execution_count": null,
   "metadata": {},
   "outputs": [],
   "source": [
    "import matplotlib.pyplot as plt\n",
    "from matplotlib.patches import Rectangle\n",
    "\n",
    "trial_type = ['NEAR', 'FAR']\n",
    "colors = ['magenta', 'green']\n",
    "\n",
    "aspect_ratio = 330 / 230\n",
    "\n",
    "# Figure width can be defined freely\n",
    "fig_width = 8\n",
    "\n",
    "# Figure height is determined by the width and aspect ratio\n",
    "fig_height = fig_width / aspect_ratio\n",
    "\n",
    "# Now we use these dimensions to create a figure\n",
    "fig, ax = plt.subplots(1, 2, figsize=(fig_width * 2, fig_height),dpi = 500)  # Multiplying width by 2 because there are two subplots\n",
    "\n",
    "for rid in range(2):\n",
    "    ax[rid].scatter(pf_arrays_normal_probe[0][rid][:,2], pf_arrays_normal_probe[0][rid][:,1], s=2, color=colors[rid], rasterized=True)\n",
    "    ax[rid].scatter(pf_arrays_normal_probe[1][rid][:,2], pf_arrays_normal_probe[1][rid][:,1], s=2, color=colors[rid], rasterized=True)\n",
    "    ax[rid].scatter(pf_arrays_normal_probe[2][rid][:,2], pf_arrays_normal_probe[2][rid][:,1], s=2, color=colors[rid], rasterized=True)\n",
    "    ax[rid].set_xlim(0, 330)\n",
    "    ax[rid].set_ylim(0, 230)\n",
    "    ax[rid].set_title(trial_type[rid])\n",
    "    ax[rid].set_xlabel('Position (cm)')\n",
    "    ax[rid].set_ylabel('Position (cm)')\n",
    "    ax[rid].set_aspect('equal')\n",
    "    ax[rid].invert_yaxis()\n",
    "\n",
    "    # Add rectangles\n",
    "    rect1 = Rectangle((130, 0), 50, 230, linewidth=2, edgecolor='black', facecolor='none', linestyle='--')  # linewidth increased to 2\n",
    "    rect2 = Rectangle((230, 0), 50, 230, linewidth=2, edgecolor='black', facecolor='none', linestyle='--')  # linewidth increased to 2\n",
    "    ax[rid].add_patch(rect1)\n",
    "    ax[rid].add_patch(rect2)\n",
    "\n",
    "# plt.savefig('stretched_trials.pdf', format='pdf', dpi=500)  # Save the figure as a pdf\n",
    "plt.show()"
   ]
  },
  {
   "cell_type": "markdown",
   "metadata": {},
   "source": [
    "The histograms of place field locations in the two stretched regions."
   ]
  },
  {
   "cell_type": "code",
   "execution_count": null,
   "metadata": {},
   "outputs": [],
   "source": [
    "# Prepare arrays to hold histogram data\n",
    "rect1_hist_data_near = []\n",
    "rect2_hist_data_near = []\n",
    "rect1_hist_data_far = []\n",
    "rect2_hist_data_far = []\n",
    "\n",
    "bins = range(0, 230, 5)\n",
    "\n",
    "for ii in range(3):  # to go over com_arrays_normal_probe[0] through [2]\n",
    "\n",
    "    for rid in range(2):\n",
    "        # filter data that are inside the rectangles\n",
    "        rect1_data = pf_arrays_normal_probe[ii][rid][(pf_arrays_normal_probe[ii][rid][:,2] >= 130) & \n",
    "                                                      (pf_arrays_normal_probe[ii][rid][:,2] <= 180) &\n",
    "                                                      (pf_arrays_normal_probe[ii][rid][:,1] >= 0) &\n",
    "                                                      (pf_arrays_normal_probe[ii][rid][:,1] <= 230)]\n",
    "        \n",
    "        rect2_data = pf_arrays_normal_probe[ii][rid][(pf_arrays_normal_probe[ii][rid][:,2] >= 230) & \n",
    "                                                      (pf_arrays_normal_probe[ii][rid][:,2] <= 280) &\n",
    "                                                      (pf_arrays_normal_probe[ii][rid][:,1] >= 0) &\n",
    "                                                      (pf_arrays_normal_probe[ii][rid][:,1] <= 230)]\n",
    "        \n",
    "        # calculate histograms of y coordinates\n",
    "        rect1_hist, _ = np.histogram(rect1_data[:,1], bins=bins, density=True)\n",
    "        rect2_hist, _ = np.histogram(rect2_data[:,1], bins=bins, density=True)\n",
    "\n",
    "        # store the histogram data\n",
    "        if trial_type[rid] == 'NEAR':\n",
    "            rect1_hist_data_near.append(rect1_hist)\n",
    "            rect2_hist_data_near.append(rect2_hist)\n",
    "        else:  # 'FAR'\n",
    "            rect1_hist_data_far.append(rect1_hist)\n",
    "            rect2_hist_data_far.append(rect2_hist)\n",
    "        \n",
    "\n",
    "# calculate mean and SEM\n",
    "rect1_hist_near_mean = np.mean(rect1_hist_data_near, axis=0)\n",
    "rect1_hist_near_sem = np.std(rect1_hist_data_near, axis=0) / np.sqrt(3)\n",
    "rect2_hist_near_mean = np.mean(rect2_hist_data_near, axis=0)\n",
    "rect2_hist_near_sem = np.std(rect2_hist_data_near, axis=0) / np.sqrt(3)\n",
    "\n",
    "rect1_hist_far_mean = np.mean(rect1_hist_data_far, axis=0)\n",
    "rect1_hist_far_sem = np.std(rect1_hist_data_far, axis=0) / np.sqrt(3)\n",
    "rect2_hist_far_mean = np.mean(rect2_hist_data_far, axis=0)\n",
    "rect2_hist_far_sem = np.std(rect2_hist_data_far, axis=0) / np.sqrt(3)"
   ]
  },
  {
   "cell_type": "code",
   "execution_count": null,
   "metadata": {},
   "outputs": [],
   "source": [
    "fig, ax = plt.subplots(1, 4, figsize=(8, 4), dpi = 500)\n",
    "\n",
    "# Use darker shades of green and pink-magenta\n",
    "dark_green = '#008000' \n",
    "light_green = '#90EE90'\n",
    "magenta = '#FF00FF'\n",
    "pink = '#FFC0CB'\n",
    "\n",
    "bin_centers = np.arange(5,230,5)\n",
    "\n",
    "# plot mean and SEM for each rectangle and trial type\n",
    "ax[0].plot(rect1_hist_near_mean, bin_centers, color=pink, label='Rectangle 1, NEAR')\n",
    "ax[0].fill_betweenx(bin_centers, rect1_hist_near_mean-rect1_hist_near_sem, rect1_hist_near_mean+rect1_hist_near_sem, color=pink, alpha=0.3)\n",
    "ax[1].plot(rect2_hist_near_mean, bin_centers, color=magenta, label='Rectangle 2, NEAR')\n",
    "ax[1].fill_betweenx(bin_centers, rect2_hist_near_mean-rect2_hist_near_sem, rect2_hist_near_mean+rect2_hist_near_sem, color=magenta, alpha=0.3)\n",
    "ax[2].plot(rect1_hist_far_mean, bin_centers, color=light_green, label='Rectangle 1, FAR')\n",
    "ax[2].fill_betweenx(bin_centers, rect1_hist_far_mean-rect1_hist_far_sem, rect1_hist_far_mean+rect1_hist_far_sem, color=light_green, alpha=0.3)\n",
    "ax[3].plot(rect2_hist_far_mean, bin_centers, color=dark_green, label='Rectangle 2, FAR')\n",
    "ax[3].fill_betweenx(bin_centers, rect2_hist_far_mean-rect2_hist_far_sem, rect2_hist_far_mean+rect2_hist_far_sem, color=dark_green, alpha=0.3)\n",
    "\n",
    "for ii in range(4):\n",
    "    ax[ii].set_xlim(0, 0.023)  # Set the limit of the x-axis\n",
    "    ax[ii].set_xlabel('Probability')\n",
    "    ax[ii].set_ylabel('Y Position (cm)')\n",
    "    ax[ii].invert_yaxis()\n",
    "\n",
    "plt.tight_layout()\n",
    "plt.savefig('stretched_trials_histogram_mean.pdf', format='pdf', dpi=500)\n",
    "plt.show()"
   ]
  },
  {
   "cell_type": "markdown",
   "metadata": {},
   "source": [
    "# Ext data figure"
   ]
  },
  {
   "cell_type": "markdown",
   "metadata": {},
   "source": [
    "## (a) Licking Behavior"
   ]
  },
  {
   "cell_type": "markdown",
   "metadata": {},
   "source": [
    "Example data from F1_4 "
   ]
  },
  {
   "cell_type": "code",
   "execution_count": null,
   "metadata": {},
   "outputs": [],
   "source": [
    "vr = vr_list[1]\n",
    "trial = vr.trial.copy()\n",
    "position = position_list[1]\n",
    "\n",
    "trial_normal_near = [57, 61, 64, 68, 69]\n",
    "trial_probe_near = [80, 85, 100, 105, 110]\n",
    "trial_near = trial_normal_near + trial_probe_near\n",
    "\n",
    "trial_normal_far = [23, 24, 27, 32, 39]\n",
    "trial_probe_far = [40, 45, 70, 90, 95]\n",
    "trial_far = trial_normal_far + trial_probe_far\n",
    "\n",
    "trial_example = [trial_near,trial_far]"
   ]
  },
  {
   "cell_type": "markdown",
   "metadata": {},
   "source": [
    "Example of licking behavior and its histogram for a single session"
   ]
  },
  {
   "cell_type": "code",
   "execution_count": null,
   "metadata": {},
   "outputs": [],
   "source": [
    "import seaborn as sns\n",
    "color_cue = ['black', 'gray']\n",
    "labels = ['Normal','Stretched']\n",
    "fig, axs = plt.subplots(2,2,figsize=(16, 10))\n",
    "\n",
    "for rewarding_id in range(1,3):    \n",
    "    lick_example = []\n",
    "    for ii in range(len(trial_example[rewarding_id-1])):\n",
    "        lick_temp = vr.lick.loc[vr.lick.trial_number == trial_example[rewarding_id-1][ii], 'position'].to_numpy()\n",
    "        lick_example.append(lick_temp)\n",
    "\n",
    "    for ii in range(len(trial_near)):\n",
    "        if ii % 5 == 0: \n",
    "            lgd = labels[int(ii/5)]\n",
    "        else:\n",
    "            lgd=str()\n",
    "        axs[0,rewarding_id-1].scatter(lick_example[ii], ii*np.ones_like(lick_example[ii]), color = color_cue[int(ii/5)], label = lgd)\n",
    "    axs[0,rewarding_id-1].invert_yaxis()\n",
    "\n",
    "    trials = trial.loc[(trial.reward_id == rewarding_id) & (trial.status != 'INCOMPLETE') & (trial.is_guided==False)]\n",
    "    trial_num_normal = position.loc[(position['probe_status'] == False),'trial_number']\n",
    "    trial_num_probe = position.loc[(position['probe_status'] == True),'trial_number']\n",
    "\n",
    "    trials_normal = trials.loc[trials['trial_number'].isin(trial_num_normal),'trial_number']\n",
    "    trials_probe = trials.loc[trials['trial_number'].isin(trial_num_probe),'trial_number']\n",
    "    licks_normal = vr.lick.loc[vr.lick.trial_number.isin(trials_normal)]\n",
    "    licks_probe =  vr.lick.loc[vr.lick.trial_number.isin(trials_probe)]\n",
    "\n",
    "    binwidth = 5\n",
    "    bins_hist = range(0, stop_potision_stretch+binwidth, binwidth)\n",
    "    sns.histplot(licks_normal.position.to_numpy(), bins=bins_hist, stat='density', color=color_cue[0], label=\"Normal\", kde = True, ax=axs[1,rewarding_id-1])\n",
    "    sns.histplot(licks_probe.position.to_numpy(), bins=bins_hist, stat='density', color=color_cue[1], label=\"Stretched\", kde = True, ax=axs[1,rewarding_id-1])\n",
    "\n",
    "    # show task regions\n",
    "    for jj in range(2):\n",
    "        for ii in range(2):\n",
    "            min_x = reward_positions_array[ii][rewarding_id-1]-(vr.environment.reward_sizes[0][ii]/2)\n",
    "            max_x = reward_positions_array[ii][rewarding_id-1]+(vr.environment.reward_sizes[0][ii]/2)\n",
    "            axs[jj,rewarding_id-1].axvspan(min_x, max_x, color=color_cue[ii], alpha=0.3,linewidth=0)\n",
    "\n",
    "        # show indicator\n",
    "        min_x = vr.environment.indicator_position.values-(vr.environment.indicator_size.values/2)\n",
    "        max_x = vr.environment.indicator_position.values+(vr.environment.indicator_size.values/2)\n",
    "        axs[jj,rewarding_id-1].axvspan(min_x, max_x, color='b', alpha=0.3,linewidth=0)\n",
    "        # show gray zone.\n",
    "        min_x = vr.environment.gray_zone_position.values-(vr.environment.gray_zone_size.values/2)\n",
    "        max_x = vr.environment.gray_zone_position.values+(vr.environment.gray_zone_size.values/2)\n",
    "        # plot end\n",
    "        axs[jj,rewarding_id-1].axvline(x=stop_potision_stretch,color='red',linestyle='--')\n",
    "        axs[jj,rewarding_id-1].axvspan(min_x, max_x, color='gray', alpha=0.3,linewidth=0)\n",
    "\n",
    "        axs[jj,rewarding_id-1].spines['right'].set_visible(False)\n",
    "        axs[jj,rewarding_id-1].spines['top'].set_visible(False)\n",
    "        # axs[jj,rewarding_id-1].set_xlabel('Position (cm)')\n",
    "        axs[0,rewarding_id-1].set_yticklabels('')\n",
    "        # axs[0,rewarding_id-1].set_ylabel('Trial number')\n",
    "        axs[1,rewarding_id-1].set_ylabel('')\n",
    "        axs[jj,rewarding_id-1].set_xlim(0,stop_potision_stretch)\n",
    "\n",
    "\n",
    "axs[0,0].legend()\n",
    "axs[1,0].legend()\n",
    "plt.show()"
   ]
  },
  {
   "cell_type": "markdown",
   "metadata": {},
   "source": [
    "## (b) PV Correlation: Regular vs Stretched trials"
   ]
  },
  {
   "cell_type": "markdown",
   "metadata": {},
   "source": [
    "PV correlation between the average neural population activity in regular and stretched trials, shown for near trials (left column) and far trials (right column)."
   ]
  },
  {
   "cell_type": "code",
   "execution_count": null,
   "metadata": {},
   "outputs": [],
   "source": [
    "trial_type = ['NEAR', 'FAR']"
   ]
  },
  {
   "cell_type": "code",
   "execution_count": null,
   "metadata": {},
   "outputs": [],
   "source": [
    "ii = 0\n",
    "fig, ax = plt.subplots(1,2,figsize=(21, 6),dpi = 600)\n",
    "for jj in range(2):\n",
    "    ttl = animals[ii] + ' : '+ trial_type[jj]\n",
    "    plot_correlation_matrix_sns(ax[jj], datasets[ii].smooth_binF_probe[jj].T,datasets[ii].smooth_binF_normal[jj].T, ttl,reward_positions=[190, 290], reward_positions_ref=[140, 190])\n",
    "\n",
    "plt.tight_layout()"
   ]
  },
  {
   "cell_type": "code",
   "execution_count": null,
   "metadata": {},
   "outputs": [],
   "source": [
    "ii = 1\n",
    "fig, ax = plt.subplots(1,2,figsize=(21, 6),dpi = 600)\n",
    "for jj in range(2):\n",
    "    ttl = animals[ii] + ' : '+ trial_type[jj]\n",
    "    plot_correlation_matrix_sns(ax[jj], datasets[ii].smooth_binF_probe[jj].T,datasets[ii].smooth_binF_normal[jj].T, ttl,reward_positions=[190, 290], reward_positions_ref=[140, 190])\n",
    "\n",
    "plt.tight_layout()"
   ]
  },
  {
   "cell_type": "code",
   "execution_count": null,
   "metadata": {},
   "outputs": [],
   "source": [
    "ii = 2\n",
    "fig, ax = plt.subplots(1,2,figsize=(21, 6),dpi = 600)\n",
    "for jj in range(2):\n",
    "    ttl = animals[ii] + ' : '+ trial_type[jj]\n",
    "    plot_correlation_matrix_sns(ax[jj], datasets[ii].smooth_binF_probe[jj].T,datasets[ii].smooth_binF_normal[jj].T, ttl,reward_positions=[190, 290], reward_positions_ref=[140, 190])\n",
    "\n",
    "plt.tight_layout()"
   ]
  }
 ],
 "metadata": {
  "kernelspec": {
   "display_name": "Python 3 (ipykernel)",
   "language": "python",
   "name": "python3"
  },
  "language_info": {
   "codemirror_mode": {
    "name": "ipython",
    "version": 3
   },
   "file_extension": ".py",
   "mimetype": "text/x-python",
   "name": "python",
   "nbconvert_exporter": "python",
   "pygments_lexer": "ipython3",
   "version": "3.8.12"
  }
 },
 "nbformat": 4,
 "nbformat_minor": 2
}
